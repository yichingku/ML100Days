{
 "cells": [
  {
   "cell_type": "markdown",
   "metadata": {},
   "source": [
    "english_score = np.array([55,89,76,65,48,70])\n",
    "math_score = np.array([60,85,60,68,np.nan,60])\n",
    "chinese_score = np.array([65,90,82,72,66,77])\n",
    "上3列共六位同學的英文、數學、國文成績，第一個元素代表第一位同學，舉例第一位同學英文55分、數學60分、國文65分，今天第五位同學因某原因沒來考試，導致數學成績缺值，運用上列數據回答下列問題。"
   ]
  },
  {
   "cell_type": "code",
   "execution_count": 2,
   "metadata": {},
   "outputs": [],
   "source": [
    "import numpy as np"
   ]
  },
  {
   "cell_type": "code",
   "execution_count": 3,
   "metadata": {},
   "outputs": [],
   "source": [
    "english_score = np.array([55,89,76,65,48,70])\n",
    "math_score = np.array([60,85,60,68,np.nan,60])\n",
    "chinese_score = np.array([65,90,82,72,66,77])"
   ]
  },
  {
   "cell_type": "markdown",
   "metadata": {},
   "source": [
    "#1. 請計算各科成績平均、最大值、最小值、標準差，其中數學缺一筆資料可忽略?"
   ]
  },
  {
   "cell_type": "code",
   "execution_count": 4,
   "metadata": {},
   "outputs": [
    {
     "name": "stdout",
     "output_type": "stream",
     "text": [
      "75.33333333333333 66.6 75.33333333333333\n"
     ]
    }
   ],
   "source": [
    "mean_en=np.nanmean(english_score)\n",
    "mean_ma=np.nanmean(math_score)\n",
    "mean_ch=np.nanmean(chinese_score)\n",
    "print(mean_ch,mean_ma,mean_ch)"
   ]
  },
  {
   "cell_type": "code",
   "execution_count": 5,
   "metadata": {},
   "outputs": [
    {
     "name": "stdout",
     "output_type": "stream",
     "text": [
      "89 85.0 90\n"
     ]
    }
   ],
   "source": [
    "max_en=np.nanmax(english_score)\n",
    "max_ma=np.nanmax(math_score)\n",
    "max_ch=np.nanmax(chinese_score)\n",
    "print(max_en,max_ma,max_ch)"
   ]
  },
  {
   "cell_type": "code",
   "execution_count": 6,
   "metadata": {},
   "outputs": [
    {
     "name": "stdout",
     "output_type": "stream",
     "text": [
      "48 60.0 65\n"
     ]
    }
   ],
   "source": [
    "min_en=np.nanmin(english_score)\n",
    "min_ma=np.nanmin(math_score)\n",
    "min_ch=np.nanmin(chinese_score)\n",
    "print(min_en,min_ma,min_ch)"
   ]
  },
  {
   "cell_type": "code",
   "execution_count": 7,
   "metadata": {},
   "outputs": [
    {
     "name": "stdout",
     "output_type": "stream",
     "text": [
      "13.433995020924426 9.707728879609279 8.825468196582484\n"
     ]
    }
   ],
   "source": [
    "std_en=np.nanstd(english_score)\n",
    "std_ma=np.nanstd(math_score)\n",
    "std_ch=np.nanstd(chinese_score)\n",
    "print(std_en,std_ma,std_ch)"
   ]
  },
  {
   "cell_type": "code",
   "execution_count": 8,
   "metadata": {},
   "outputs": [
    {
     "name": "stdout",
     "output_type": "stream",
     "text": [
      "數學分數  平均 66.6 最大值 85.0 最小值 60.0 標準差 9.707728879609279\n",
      "國文分數  平均 75.33333333333333 最大值 90 最小值 65 標準差 8.825468196582484\n",
      "英文分數  平均 67.16666666666667 最大值 89 最小值 48 標準差 13.433995020924426\n"
     ]
    }
   ],
   "source": [
    "print(\"數學分數 \",\"平均\",np.nanmean(math_score),\"最大值\",np.nanmax(math_score),\"最小值\",np.nanmin(math_score),\"標準差\",np.nanstd(math_score))\n",
    "print(\"國文分數 \",\"平均\",np.nanmean(chinese_score),\"最大值\",np.nanmax(chinese_score),\"最小值\",np.nanmin(chinese_score),\"標準差\",np.nanstd(chinese_score))\n",
    "print(\"英文分數 \",\"平均\",np.nanmean(english_score),\"最大值\",np.nanmax(english_score),\"最小值\",np.nanmin(english_score),\"標準差\",np.nanstd(english_score))"
   ]
  },
  {
   "cell_type": "markdown",
   "metadata": {},
   "source": [
    "#2. 第五位同學補考數學後成績為55，請計算補考後數學成績平均、最大值、最小值、標準差?"
   ]
  },
  {
   "cell_type": "code",
   "execution_count": 15,
   "metadata": {},
   "outputs": [],
   "source": [
    "math_score[4]=55"
   ]
  },
  {
   "cell_type": "code",
   "execution_count": 18,
   "metadata": {},
   "outputs": [
    {
     "name": "stdout",
     "output_type": "stream",
     "text": [
      "75.33333333333333 64.66666666666667 75.33333333333333\n"
     ]
    }
   ],
   "source": [
    "mean_en=np.mean(english_score)\n",
    "mean_ma=np.mean(math_score)\n",
    "mean_ch=np.mean(chinese_score)\n",
    "print(mean_ch,mean_ma,mean_ch)"
   ]
  },
  {
   "cell_type": "code",
   "execution_count": 20,
   "metadata": {},
   "outputs": [
    {
     "name": "stdout",
     "output_type": "stream",
     "text": [
      "89 85.0 90\n"
     ]
    }
   ],
   "source": [
    "max_en=np.max(english_score)\n",
    "max_ma=np.max(math_score)\n",
    "max_ch=np.max(chinese_score)\n",
    "print(max_en,max_ma,max_ch)"
   ]
  },
  {
   "cell_type": "code",
   "execution_count": 21,
   "metadata": {},
   "outputs": [
    {
     "name": "stdout",
     "output_type": "stream",
     "text": [
      "48 55.0 65\n"
     ]
    }
   ],
   "source": [
    "min_en=np.nanmin(english_score)\n",
    "min_ma=np.nanmin(math_score)\n",
    "min_ch=np.nanmin(chinese_score)\n",
    "print(min_en,min_ma,min_ch)"
   ]
  },
  {
   "cell_type": "code",
   "execution_count": 22,
   "metadata": {},
   "outputs": [
    {
     "name": "stdout",
     "output_type": "stream",
     "text": [
      "13.433995020924426 9.860132971832694 8.825468196582484\n"
     ]
    }
   ],
   "source": [
    "std_en=np.nanstd(english_score)\n",
    "std_ma=np.nanstd(math_score)\n",
    "std_ch=np.nanstd(chinese_score)\n",
    "print(std_en,std_ma,std_ch)"
   ]
  },
  {
   "cell_type": "markdown",
   "metadata": {},
   "source": [
    "#3. 用補考後資料找出與國文成績相關係數最高的學科?"
   ]
  },
  {
   "cell_type": "code",
   "execution_count": 24,
   "metadata": {},
   "outputs": [
    {
     "name": "stdout",
     "output_type": "stream",
     "text": [
      "[[1.         0.74056803]\n",
      " [0.74056803 1.        ]] [[1.         0.97792828]\n",
      " [0.97792828 1.        ]]\n"
     ]
    }
   ],
   "source": [
    "a=np.corrcoef(chinese_score,math_score)\n",
    "b=np.corrcoef(chinese_score,english_score)\n",
    "print(a,b)"
   ]
  },
  {
   "cell_type": "code",
   "execution_count": null,
   "metadata": {},
   "outputs": [],
   "source": []
  },
  {
   "cell_type": "code",
   "execution_count": null,
   "metadata": {},
   "outputs": [],
   "source": []
  }
 ],
 "metadata": {
  "kernelspec": {
   "display_name": "Python 3",
   "language": "python",
   "name": "python3"
  },
  "language_info": {
   "codemirror_mode": {
    "name": "ipython",
    "version": 3
   },
   "file_extension": ".py",
   "mimetype": "text/x-python",
   "name": "python",
   "nbconvert_exporter": "python",
   "pygments_lexer": "ipython3",
   "version": "3.8.5"
  }
 },
 "nbformat": 4,
 "nbformat_minor": 4
}
